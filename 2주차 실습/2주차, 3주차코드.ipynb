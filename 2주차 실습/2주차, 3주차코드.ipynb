{
 "cells": [
  {
   "cell_type": "markdown",
   "metadata": {},
   "source": [
    "# 자료구조 기초\n",
    "\n",
    "- GOAL: 기본적인 자료구조 중 탐색에 주로 활용되는 스택(stack), 큐(queue), 우선순위 큐(priority queue), 트리(tree), 그래프(graph)의 기본을 이해하고 활용하기 위한 파이썬 구현방법에 대해 살펴본다."
   ]
  },
  {
   "cell_type": "markdown",
   "metadata": {},
   "source": [
    "### 스택(stack)\n",
    "- LIFO(Last In, First Out): 가장 마지막에 들어간 데이터가 가장 먼저 빠져나가는 구조\n",
    "- 데이터를 넣는것을 push, 빼내는 것을 pop이라고 부름\n",
    "- 파이썬의 스택 구조는 기본적으로 단순 리스트만 활용하여 구현이 가능함\n",
    "![nn](../w2/img/stack.png)"
   ]
  },
  {
   "cell_type": "code",
   "execution_count": 3,
   "metadata": {},
   "outputs": [
    {
     "name": "stdout",
     "output_type": "stream",
     "text": [
      "[1, 2, 3]\n",
      "[1, 2]\n"
     ]
    }
   ],
   "source": [
    "stack = []\n",
    "\n",
    "stack.append(1)\n",
    "stack.append(2)\n",
    "stack.append(3)\n",
    "\n",
    "print(stack)\n",
    "\n",
    "stack.pop()\n",
    "print(stack)"
   ]
  },
  {
   "cell_type": "markdown",
   "metadata": {},
   "source": []
  },
  {
   "cell_type": "markdown",
   "metadata": {},
   "source": [
    "- 리스트만으로도 스택 구현이 가능하나,\n",
    "- 속도가 좀 더 빠른 스택 구조 만들 시 파이썬 <code>collections</code>의 <code>deque</code> 모듈 활용 추천\n",
    "    - deque(double-ended queue: 큐 앞뒤 삽입/삭제 가능)는 양쪽 끝에서 빠르게 요소를 추가하고 제거할 수 있는 자료구조로, 스택과 큐를 구현하는 데 유용함\n",
    "    - 리스트보다 요소의 추가 및 제거가 더 효율적이며, 큐나 스택 작업을 수행할 때 성능 이점이 있음"
   ]
  },
  {
   "cell_type": "code",
   "execution_count": 5,
   "metadata": {},
   "outputs": [
    {
     "name": "stdout",
     "output_type": "stream",
     "text": [
      "deque([1, 2, 3, 4, 5])\n",
      "deque([1, 2, 3, 4])\n"
     ]
    }
   ],
   "source": [
    "from collections import deque\n",
    "stack = deque()\n",
    "\n",
    "data = [1,2,3,4,5]\n",
    "for i in data:\n",
    "    stack.append(i)\n",
    "\n",
    "print(stack)\n",
    "\n",
    "stack.pop()\n",
    "print(stack)"
   ]
  },
  {
   "cell_type": "markdown",
   "metadata": {},
   "source": [
    "### 큐(Queue)\n",
    "- FIFO(First In, First Out): 가장 먼저 들어간 데이터가 가장 먼저 빠져나가는 구조\n",
    "- 큐에 자료를 넣는 것을 enqueue, 빼내는 것은 dequeue라고 부름\n",
    "- 파이썬에서는 deque(double-ended queue: 큐 앞뒤 삽입/삭제 가능)를 사용\n",
    "![nn](../w2/img/queue.png)"
   ]
  },
  {
   "cell_type": "markdown",
   "metadata": {},
   "source": []
  },
  {
   "cell_type": "code",
   "execution_count": 7,
   "metadata": {},
   "outputs": [
    {
     "name": "stdout",
     "output_type": "stream",
     "text": [
      "deque([1, 2, 3, 4, 5, 5])\n",
      "deque([2, 3, 4, 5, 5])\n"
     ]
    }
   ],
   "source": [
    "from collections import deque\n",
    "\n",
    "list = [1,2,3,4,5]\n",
    "queue = deque(list)\n",
    "\n",
    "queue.append(5)\n",
    "print(queue)\n",
    "\n",
    "queue.popleft()\n",
    "print(queue)"
   ]
  },
  {
   "cell_type": "markdown",
   "metadata": {},
   "source": [
    "- 파이썬의 queue 라이브러리에서 Queue 모듈을 사용해도 큐를 구현할 수 있지만, 실습 시 속도 측면이나 사용 용이성 측면에서 deque 모듈 사용을 추천함\n",
    "    - queue.Queue는 큐 내부 요소에 직접 접근/출력 기능을 제공하지 않음. 이 때문에 get으로 하나하나 빼내는 불편한 방식을 사용해야함.\n",
    "    - (다만, queue 모듈이 무조건 나쁜 것이 아니라 빠르고 자주 데이터를 넣고 빼야하는 멀티 스레드 상황에서 안전성이 높다는 장점이 존재함)"
   ]
  },
  {
   "cell_type": "code",
   "execution_count": 10,
   "metadata": {},
   "outputs": [
    {
     "name": "stdout",
     "output_type": "stream",
     "text": [
      "<queue.Queue object at 0x104690890>\n",
      "3\n",
      "6\n",
      "9\n"
     ]
    }
   ],
   "source": [
    "from queue import Queue\n",
    "\n",
    "que = Queue()\n",
    "que.put(3)\n",
    "que.put(6)\n",
    "que.put(9)\n",
    "\n",
    "print(que)\n",
    "\n",
    "while not que.empty():\n",
    "    print(que.get())"
   ]
  },
  {
   "cell_type": "markdown",
   "metadata": {},
   "source": [
    "##### 우선순위 큐(Priority Queue)\n",
    "- 우선순위 큐는 FIFO 특성을 가진 일반 큐와 달리, 추가 순서와 무관하게 우선순위가 높은(가장 작은 값)을 제거하는 특이한 자료구조\n",
    "- 앞서 활용한 queue 라이브러리 내 PriorityQueue 모듈 활용 가능"
   ]
  },
  {
   "cell_type": "code",
   "execution_count": 11,
   "metadata": {},
   "outputs": [
    {
     "name": "stdout",
     "output_type": "stream",
     "text": [
      "1\n",
      "2\n",
      "4\n",
      "7\n"
     ]
    }
   ],
   "source": [
    "from queue import PriorityQueue\n",
    "\n",
    "pque = PriorityQueue()\n",
    "pque.put(4)\n",
    "pque.put(1)\n",
    "pque.put(2)\n",
    "pque.put(7)\n",
    "\n",
    "while not pque.empty():\n",
    "    print(pque.get())\n",
    "    \n"
   ]
  },
  {
   "cell_type": "markdown",
   "metadata": {},
   "source": [
    "- 파이썬의 priority queue는 heapq 모듈로도 활용 가능"
   ]
  },
  {
   "cell_type": "code",
   "execution_count": 14,
   "metadata": {},
   "outputs": [
    {
     "name": "stdout",
     "output_type": "stream",
     "text": [
      "[(1, 'task 1'), (4, 'task 4'), (7, 'task 7'), (9, 'task 9')]\n",
      "(1, 'task 1')\n",
      "(4, 'task 4')\n",
      "(7, 'task 7')\n",
      "(9, 'task 9')\n"
     ]
    }
   ],
   "source": [
    "import heapq\n",
    "\n",
    "heap = []\n",
    "\n",
    "heapq.heappush(heap, (4,'task 4'))\n",
    "heapq.heappush(heap, (1,'task 1'))\n",
    "heapq.heappush(heap, (7,'task 7'))\n",
    "heapq.heappush(heap, (9,'task 9'))\n",
    "\n",
    "print(heap)\n",
    "\n",
    "while heap:\n",
    "    print(heapq.heappop(heap))\n"
   ]
  },
  {
   "cell_type": "markdown",
   "metadata": {},
   "source": [
    "알고리즘 속도 표기법 중 가장 기본은 빅오 표기법(예: O(n))\n",
    "  \n",
    "알고리즘 속도는 시간으로 측정하지않고, 연산 횟수가 얼마나 증가하는지로 카운트함"
   ]
  },
  {
   "cell_type": "markdown",
   "metadata": {},
   "source": [
    "# 트리(tree)\n",
    "\n",
    "- 트리 구조는 노드들이 나무 가지처럼 연결된 비선형적이고 계층적인 자료구조. 그래프의 방향이 존재함\n",
    "- 트리는 사실 그래프의 한 형태로 순환이 없는 연결 그래프의 일종임\n",
    "\n",
    "트리는 클래스로 보통 만듦\n",
    "<br/>\n",
    "![nn](./img/tree.png)"
   ]
  },
  {
   "cell_type": "code",
   "execution_count": 9,
   "metadata": {},
   "outputs": [
    {
     "name": "stdout",
     "output_type": "stream",
     "text": [
      "1 2 4\n"
     ]
    }
   ],
   "source": [
    "\n",
    "#tree구조\n",
    "#     1\n",
    "#   /   \\\n",
    "#  2     3\n",
    "# / \\ \n",
    "#4  5\n",
    "\n",
    "#tree생성을 위한 node\n",
    "class Node:\n",
    "    def __init__(self, data):\n",
    "        self.data = data\n",
    "        self.left = None\n",
    "        self.right = None\n",
    "\n",
    "root = Node(1)\n",
    "root.left = Node(2)\n",
    "root.right = Node(3)\n",
    "root.left.left = Node(4)\n",
    "root.right.right = Node(5)\n",
    "\n",
    "print(root.data, root.left.data, root.left.left.data)\n"
   ]
  },
  {
   "cell_type": "markdown",
   "metadata": {},
   "source": [
    "# 그래프(graph)\n",
    "\n",
    "- 그래프 구조는 노드(혹은 버텍스)와 엣지로 구성된 관계를 나타내는 자료구조\n",
    "- 보통 그래프는 G = (V, E) 로 표현하며, V는 노드의 집합, E는 엣지의 집합을 의미함\n",
    "\n",
    "![nn](./img/graph.png)"
   ]
  },
  {
   "cell_type": "markdown",
   "metadata": {},
   "source": [
    "- 그래프는 다음과 같은 여러 유형이 존재할 수 있음\n",
    "\n",
    "![nn](./img/graph1.png)\n",
    "![nn](./img/graph2.png)"
   ]
  },
  {
   "cell_type": "markdown",
   "metadata": {},
   "source": [
    "#### 인접 행렬과 인접 리스트\n",
    "\n",
    "- 그래프는 인접 행렬(중간) 혹은 인접리스트(우측)로 표현할 수 있음\n",
    "![nn](./img/graph4.png)"
   ]
  },
  {
   "cell_type": "code",
   "execution_count": 3,
   "metadata": {},
   "outputs": [
    {
     "name": "stdout",
     "output_type": "stream",
     "text": [
      "A는 B, C와 연결\n",
      "B는 A와 연결\n",
      "C는 A, D와 연결\n",
      "D는 C, E와 연결\n",
      "E는 D와 연결\n"
     ]
    }
   ],
   "source": [
    "#인접행렬\n",
    "\n",
    "nodes = ['A', 'B', 'C', 'D', 'E']\n",
    "\n",
    "adj_matrix = [\n",
    "    [0, 1, 1, 0, 0], #A \n",
    "    [1, 0, 0, 0, 0], #B\n",
    "    [1, 0, 0, 1 ,0], #C\n",
    "    [0, 0, 1, 0, 1], #D\n",
    "    [0, 0, 0, 1, 0] #E   \n",
    "]\n",
    "\n",
    "for i in range(len(adj_matrix)):\n",
    "    connected_nodes = [nodes[j] for j in range(len(adj_matrix[i])) if adj_matrix[i][j] == 1]\n",
    "    print(f\"{nodes[i]}는 {', '.join(connected_nodes)}와 연결\")"
   ]
  },
  {
   "cell_type": "code",
   "execution_count": 4,
   "metadata": {},
   "outputs": [
    {
     "name": "stdout",
     "output_type": "stream",
     "text": [
      "A는 B, C와 연결\n",
      "B는 A와 연결\n",
      "C는 A, D와 연결\n",
      "D는 C, E와 연결\n",
      "E는 D와 연결\n"
     ]
    }
   ],
   "source": [
    "#인접리스트\n",
    "\n",
    "graph = {\n",
    "    'A':['B', 'C'],\n",
    "    'B':['A'],\n",
    "    'C':['A','D'],\n",
    "    'D':['C','E'],\n",
    "    'E':['D']\n",
    "}\n",
    "\n",
    "for node in graph:\n",
    "    print(f\"{node}는 {', '.join(graph[node])}와 연결\")"
   ]
  },
  {
   "cell_type": "markdown",
   "metadata": {},
   "source": [
    "## 8 Puzzle 만들기\n",
    "\n",
    "- 트리 구조를 활용해 경로 탐색 용이하도록 문제 상황의 상태 공간을 class 로 구현\n",
    "\n",
    "1. <strong>상태</strong> 정보를 담기 위한 속성\n",
    "    - board\n",
    "2. 다음 상태로의 전이를 가능케하는 <strong>전이모형</strong>에 해당하는 함수\n",
    "    - get_new_board: 동작\n",
    "    - expand: (동작 통해) 확장 가능 상태 생성\n",
    "3. 그 외 함수\n",
    "    - 객체(현재 상태)를 출력해 현재 상태를 확인하는 함수\n",
    "    - 두 객체(현재 상태 vs. 목표 상태) 비교 하기 위한 함수"
   ]
  },
  {
   "cell_type": "code",
   "execution_count": 13,
   "metadata": {},
   "outputs": [],
   "source": [
    "#클래스 설계 (상태, 전이모형, 그외 함수 포함)\n",
    "\n",
    "class Puzzle:\n",
    "    def __init__(self, board):\n",
    "        self.board = board\n",
    "\n",
    "    def get_new_board(self, i1, i2): #i1, i2인덱스에 위치한 값을 서로 바꿈\n",
    "        new_board = self.board[:]\n",
    "        new_board[i1], new_board[i2] = new_board[i2], new_board[i1]\n",
    "        return Puzzle(new_board)\n",
    "    \n",
    "    #보드의 인덱스\n",
    "    # 0, 1, 2\n",
    "    # 3, 4, 5\n",
    "    # 6, 7, 8\n",
    "\n",
    "    def expand(self):\n",
    "        result = []\n",
    "        i = self.board.index(0) #빈칸의 위치를 파악\n",
    "        if i not in [0,3,6]: #빈칸이 왼쪽끝 쪽에 위치하지 않으면\n",
    "            result.append(self.get_new_board(i, i-1)) #왼쪽으로 이동\n",
    "        if i not in [0,1,2]: #빈칸이 위쪽끝 쪽에 위치하지 않으면\n",
    "            result.append(self.get_new_board(i, i-3)) #위쪽으로 이동\n",
    "        if i not in [6,7,8]: #빈칸이 아래끝 쪽에 위치하지 않으면\n",
    "            result.append(self.get_new_board(i, i+3)) #아래쪽으로 이동\n",
    "        if i not in [2,5,8]: #빈칸이 오른쪽끝 쪽에 위치하지 않으면\n",
    "            result.append(self.get_new_board(i, i+1)) #오른쪽으로 이동\n",
    "        return result\n",
    "    \n",
    "    def __str__(self): #상태를 보기좋게 출력해주는 함수\n",
    "        return str(self.board[:3])+ \"\\n\" + str(self.board[3:6])+ \"\\n\" + str(self.board[6:9])\n",
    "    \n",
    "    def __eq__(self, other): #보드와 다른보드간에 비교 \n",
    "        return self.board == other.board\n",
    "    \n",
    "    def __ne__(self, other):\n",
    "        return self.board != other.board"
   ]
  },
  {
   "cell_type": "code",
   "execution_count": 15,
   "metadata": {},
   "outputs": [],
   "source": [
    "initial_state = [0,1,3,\n",
    "                 4,2,5,\n",
    "                 6,8,7]"
   ]
  },
  {
   "cell_type": "code",
   "execution_count": 18,
   "metadata": {},
   "outputs": [],
   "source": [
    "initial_puzzle = Puzzle(initial_state)"
   ]
  },
  {
   "cell_type": "code",
   "execution_count": 19,
   "metadata": {},
   "outputs": [
    {
     "name": "stdout",
     "output_type": "stream",
     "text": [
      "[0, 1, 3]\n",
      "[4, 2, 5]\n",
      "[6, 8, 7]\n"
     ]
    }
   ],
   "source": [
    "print(initial_puzzle)"
   ]
  },
  {
   "cell_type": "code",
   "execution_count": 23,
   "metadata": {},
   "outputs": [
    {
     "name": "stdout",
     "output_type": "stream",
     "text": [
      "#0\n",
      "[4, 1, 3]\n",
      "[0, 2, 5]\n",
      "[6, 8, 7]\n",
      "#1\n",
      "[1, 0, 3]\n",
      "[4, 2, 5]\n",
      "[6, 8, 7]\n"
     ]
    }
   ],
   "source": [
    "next_puzzle_list = initial_puzzle.expand()\n",
    "\n",
    "for i, v in enumerate(next_puzzle_list):\n",
    "    print(f\"#{i}\\n{v}\")"
   ]
  }
 ],
 "metadata": {
  "kernelspec": {
   "display_name": "base",
   "language": "python",
   "name": "python3"
  },
  "language_info": {
   "codemirror_mode": {
    "name": "ipython",
    "version": 3
   },
   "file_extension": ".py",
   "mimetype": "text/x-python",
   "name": "python",
   "nbconvert_exporter": "python",
   "pygments_lexer": "ipython3",
   "version": "3.11.5"
  }
 },
 "nbformat": 4,
 "nbformat_minor": 2
}
