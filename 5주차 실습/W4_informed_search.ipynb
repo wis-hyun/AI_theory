{
 "cells": [
  {
   "cell_type": "markdown",
   "metadata": {},
   "source": [
    "# Informed Search"
   ]
  },
  {
   "cell_type": "markdown",
   "metadata": {},
   "source": [
    "### 8 Puzzle + 휴리스틱 \n",
    "- 정보 있는 탐색을 위해 휴리스틱 함수와 평가 함수를 추가\n",
    "- 평가함수 ```self.f()```\n",
    "- 휴리스틱 ```self.h()```\n",
    "- 경로비용 ```self.g()```"
   ]
  },
  {
   "cell_type": "code",
   "execution_count": 1,
   "metadata": {},
   "outputs": [],
   "source": [
    "class PuzzleH:\n",
    "  def __init__(self, board, goal, depth=0):\n",
    "    self.board = board\n",
    "    self.depth = depth\n",
    "    self.goal = goal\n",
    "\n",
    "  def get_new_board(self, i1, i2, depth):\n",
    "    new_board = self.board[:]\n",
    "    new_board[i1], new_board[i2] = new_board[i2], new_board[i1]\n",
    "    return PuzzleH(new_board, self.goal, depth)\n",
    "\n",
    "  def expand(self, depth):\n",
    "    result = []\n",
    "    i = self.board.index(0)\n",
    "    if not i in [0, 3, 6]:\n",
    "      result.append(self.get_new_board(i, i-1, depth))\n",
    "    if not i in [0, 1, 2]:\n",
    "      result.append(self.get_new_board(i, i-3, depth))\n",
    "    if not i in [2, 5, 8]:\t\n",
    "      result.append(self.get_new_board(i, i+1, depth))\n",
    "    if not i in [6, 7, 8]:\n",
    "      result.append(self.get_new_board(i, i+3, depth))\n",
    "    return result\n",
    "\n",
    "\n",
    "  def f(self):\n",
    "    return self.h()+self.g()\n",
    "\n",
    "  # 휴리스틱 함수 h(n): 현재 제 위치에 있지 않은 타일의 개수를 계산하여 반환\n",
    "  def h(self):\n",
    "    score = 0\n",
    "    for i in range(9):\n",
    "      if (self.board[i] != 0) and (self.board[i] != self.goal[i]):\n",
    "        score += 1\n",
    "    return score\n",
    "\n",
    "  # 경로 비용 함수 g(n): 시작 노드로부터의 깊이를 반환\n",
    "  def g(self):\n",
    "    return self.depth\n",
    "\n",
    "  def __eq__(self, other):\n",
    "    return self.board == other.board\n",
    "\n",
    "  def __ne__(self, other):\n",
    "    return self.board != other.board\n",
    "\n",
    "  def __lt__(self, other):\n",
    "    return self.f() < other.f()\n",
    "\n",
    "  def __gt__(self, other):\n",
    "    return self.f() > other.f()\n",
    "\n",
    "  def __str__(self):\n",
    "    return str(self.board[:3]) +\"\\n\"+\\\n",
    "    str(self.board[3:6]) +\"\\n\"+\\\n",
    "    str(self.board[6:]) +\"\\n\""
   ]
  },
  {
   "cell_type": "code",
   "execution_count": 2,
   "metadata": {},
   "outputs": [],
   "source": [
    "start = [2, 8, 3, \n",
    "         1, 6, 4, \n",
    "         7, 0, 5]\n",
    "\n",
    "goal = [8, 6, 3, \n",
    "        2, 0, 4, \n",
    "        1, 7, 5]"
   ]
  },
  {
   "cell_type": "markdown",
   "metadata": {},
   "source": [
    "### 최우선탐색 (Greedy Best-First Search)\n",
    "- 현재 상태에서 가장 최선이라고 생각되는 것을 선택하는 방식으로 동작하는 방법, 즉, 휴리스틱 값이 작은 노드를 우선적으로 탐색하는 방법\n",
    "- 우선순위 큐(Priority Queue) 대기열 활용하며, 각 노드는 튜플 사용해 (휴리스틱 값, 상태)로 표현"
   ]
  },
  {
   "cell_type": "markdown",
   "metadata": {},
   "source": [
    "### 의사코드\n",
    "```java\n",
    "Function GBFS(initial_state, goal_state)\n",
    "  p_queue ← [(h, initial_state)]\n",
    "  visited ← [ ]\n",
    "  while p_queue != [ ] do\n",
    "    current_h, current_state ← p_queue에서 휴리스틱 h값이 가장 작은 노드 추출\n",
    "    if current_state == goal_state\n",
    "      return SUCCESS\n",
    "    else\n",
    "      current_state의 자식 노드 생성\n",
    "      current_state를 visited에 추가\n",
    "      if current_state의 자식 노드가 이미 p_queue나 visited에 있다면\n",
    "        해당 자식 노드 건너뜀\n",
    "      else\n",
    "        자식 노드의 휴리스틱 값 h(n)을 계산\n",
    "        남은 자식 노드들은 h값 기준으로 p_queue에 추가\n",
    "  return FAIL\n",
    "```"
   ]
  },
  {
   "cell_type": "code",
   "execution_count": 3,
   "metadata": {},
   "outputs": [
    {
     "name": "stdout",
     "output_type": "stream",
     "text": [
      "count:1, h:5 \n",
      "[2, 8, 3]\n",
      "[1, 6, 4]\n",
      "[7, 0, 5]\n",
      "\n",
      "count:2, h:4 \n",
      "[2, 8, 3]\n",
      "[1, 6, 4]\n",
      "[0, 7, 5]\n",
      "\n",
      "count:3, h:3 \n",
      "[2, 8, 3]\n",
      "[0, 6, 4]\n",
      "[1, 7, 5]\n",
      "\n",
      "count:4, h:2 \n",
      "[0, 8, 3]\n",
      "[2, 6, 4]\n",
      "[1, 7, 5]\n",
      "\n",
      "count:5, h:1 \n",
      "[8, 0, 3]\n",
      "[2, 6, 4]\n",
      "[1, 7, 5]\n",
      "\n",
      "count:6, h:0 \n",
      "[8, 6, 3]\n",
      "[2, 0, 4]\n",
      "[1, 7, 5]\n",
      "\n"
     ]
    },
    {
     "data": {
      "text/plain": [
       "'탐색 성공'"
      ]
     },
     "execution_count": 3,
     "metadata": {},
     "output_type": "execute_result"
    }
   ],
   "source": [
    "import heapq\n",
    "\n",
    "def run_gbfs(initial_state, goal_state):\n",
    "    pqueue = []\n",
    "    visited = []\n",
    "\n",
    "    heapq.heappush(pqueue, (initial_state.h(), initial_state))\n",
    "\n",
    "    count = 1\n",
    "\n",
    "    while pqueue:\n",
    "        current_h, current_state = heapq.heappop(pqueue)\n",
    "        print(f\"count:{count}, h:{current_state.h()} \\n{current_state}\")\n",
    "        count += 1\n",
    "        \n",
    "        if current_state.board == goal_state:\n",
    "            return \"탐색 성공\"\n",
    "        \n",
    "        depth = current_state.depth + 1\n",
    "        visited.append(current_state)\n",
    "\n",
    "        for state in current_state.expand(depth):\n",
    "            if (state in visited) and (state in [s[1] for s in pqueue]):\n",
    "                continue\n",
    "            else:\n",
    "                heapq.heappush(pqueue, (state.h(), state))\n",
    "    return \"탐색 실패\"\n",
    "\n",
    "initial_state = PuzzleH(start, goal)\n",
    "run_gbfs(initial_state, goal)"
   ]
  },
  {
   "cell_type": "markdown",
   "metadata": {},
   "source": [
    "## A* 알고리즘\n",
    "- 초기 노드에서 목표 노드까지의 최단 경로를 찾는 효율적인 알고리즘으로, f(n) = h(n) + g(n) 활용해 평가 함수로 활용\n",
    "  1) 시작 노드에서 현재 노드까지의 경로 비용 g(n)\n",
    "  2) 휴리스틱을 사용하여 현재 노드에서 목표 노드까지 이동하는 데 드는 예상 비용 h(n)\n",
    "- 우선순위 큐(Priority Queue) 대기열 활용하며, 각 노드는 튜플 사용해 (f(n), 상태)로 표현"
   ]
  },
  {
   "cell_type": "markdown",
   "metadata": {},
   "source": [
    "### 의사코드\n",
    "```java\n",
    "Function AStar(initial_state, goal_state)\n",
    "  p_queue ← [f, initial_state]\n",
    "  visited ← [ ]\n",
    "  while p_queue != [ ] do\n",
    "    current_f, current_state ← p_queue 에서 가장 평가 함수 f(n) 값이 좋은 노드\n",
    "    if current_state == goal_state\n",
    "      return SUCCESS\n",
    "    else\n",
    "      current_state의 자식 노드 생성\n",
    "      current_state를 visited에 추가\n",
    "      if current_state의 자식 노드가 p_queue 이나 visited 에 있으면\n",
    "        해당 자식 노드 건너뜀\n",
    "      else\n",
    "        자식 노드의 평가 함수 값 f(n) = g(n) + h(n)을 계산\n",
    "        자식 노드들을 f 값 기준으로 p_queue 에 추가\n",
    "  return FAIL\n",
    "```"
   ]
  },
  {
   "cell_type": "code",
   "execution_count": 4,
   "metadata": {},
   "outputs": [
    {
     "name": "stdout",
     "output_type": "stream",
     "text": [
      "count:1, f:5, h:5+g:0 \n",
      "[2, 8, 3]\n",
      "[1, 6, 4]\n",
      "[7, 0, 5]\n",
      "\n",
      "count:2, f:5, h:4+g:1 \n",
      "[2, 8, 3]\n",
      "[1, 6, 4]\n",
      "[0, 7, 5]\n",
      "\n",
      "count:3, f:5, h:3+g:2 \n",
      "[2, 8, 3]\n",
      "[0, 6, 4]\n",
      "[1, 7, 5]\n",
      "\n",
      "count:4, f:5, h:2+g:3 \n",
      "[0, 8, 3]\n",
      "[2, 6, 4]\n",
      "[1, 7, 5]\n",
      "\n",
      "count:5, f:5, h:1+g:4 \n",
      "[8, 0, 3]\n",
      "[2, 6, 4]\n",
      "[1, 7, 5]\n",
      "\n",
      "count:6, f:5, h:0+g:5 \n",
      "[8, 6, 3]\n",
      "[2, 0, 4]\n",
      "[1, 7, 5]\n",
      "\n"
     ]
    },
    {
     "data": {
      "text/plain": [
       "'탐색 성공'"
      ]
     },
     "execution_count": 4,
     "metadata": {},
     "output_type": "execute_result"
    }
   ],
   "source": [
    "import heapq\n",
    "\n",
    "def run_astar(initial_state, goal_state):\n",
    "    pqueue = []\n",
    "    visited = []\n",
    "\n",
    "    heapq.heappush(pqueue, (initial_state.f(), initial_state))\n",
    "\n",
    "    count = 1\n",
    "\n",
    "    while pqueue:\n",
    "        current_f, current_state = heapq.heappop(pqueue)\n",
    "        print(f\"count:{count}, f:{current_state.f()}, h:{current_state.h()}+g:{current_state.g()} \\n{current_state}\")\n",
    "        count += 1\n",
    "        \n",
    "        if current_state.board == goal_state:\n",
    "            return \"탐색 성공\"\n",
    "        \n",
    "        depth = current_state.depth + 1\n",
    "        visited.append(current_state)\n",
    "\n",
    "        for state in current_state.expand(depth):\n",
    "            if (state in visited) and (state in [s[1] for s in pqueue]):\n",
    "                continue\n",
    "            else:\n",
    "                heapq.heappush(pqueue, (state.f(), state))\n",
    "    return \"탐색 실패\"\n",
    "\n",
    "# 초기 상태와 목표 상태는 Puzzle 클래스로 정의된다고 가정\n",
    "initial_state = PuzzleH(start, goal)\n",
    "run_astar(initial_state, goal)"
   ]
  }
 ],
 "metadata": {
  "kernelspec": {
   "display_name": "base",
   "language": "python",
   "name": "python3"
  },
  "language_info": {
   "codemirror_mode": {
    "name": "ipython",
    "version": 3
   },
   "file_extension": ".py",
   "mimetype": "text/x-python",
   "name": "python",
   "nbconvert_exporter": "python",
   "pygments_lexer": "ipython3",
   "version": "3.9.6"
  }
 },
 "nbformat": 4,
 "nbformat_minor": 2
}
