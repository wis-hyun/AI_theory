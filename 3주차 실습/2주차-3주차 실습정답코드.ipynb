{
 "cells": [
  {
   "cell_type": "markdown",
   "metadata": {},
   "source": [
    "# 그래프(graph)\n",
    "\n",
    "- 그래프 구조는 노드(혹은 버텍스)와 엣지로 구성된 관계를 나타내는 자료구조\n",
    "- 보통 그래프는 G = (V, E) 로 표현하며, V는 노드의 집합, E는 엣지의 집합을 의미함\n",
    "\n",
    "#### 인접 행렬과 인접 리스트\n",
    "\n",
    "- 그래프는 인접 행렬(중간) 혹은 인접리스트(우측)로 표현할 수 있음"
   ]
  },
  {
   "cell_type": "code",
   "execution_count": null,
   "metadata": {},
   "outputs": [],
   "source": [
    "# 인접 행렬\n",
    "nodes = ['A', 'B', 'C', 'D', 'E']\n",
    "\n",
    "adj_matrix = [\n",
    "  # A B C D E\n",
    "  [ 0,1,1,0,0 ], # A\n",
    "  [ 1,0,0,0,0 ], # B\n",
    "  [ 1,0,0,1,0 ], # C\n",
    "  [ 0,0,1,0,1 ], # D\n",
    "  [ 0,0,0,1,0 ]  # E\n",
    "]\n",
    "\n",
    "for i in range(len(adj_matrix)):\n",
    "  connected_nodes = [nodes[j] for j in range(len(adj_matrix[i])) if adj_matrix[i][j] == 1]\n",
    "  print(f\"{nodes[i]} 는 {', '.join(connected_nodes)}와 연결\")"
   ]
  },
  {
   "cell_type": "code",
   "execution_count": null,
   "metadata": {},
   "outputs": [],
   "source": [
    "# 인접 리스트\n",
    "graph = {\n",
    "  'A': ['B', 'C'],\n",
    "  'B': ['A'],\n",
    "  'C': ['A', 'D'],\n",
    "  'D': ['C', 'E'],\n",
    "  'E': ['D']\n",
    "}\n",
    "\n",
    "for node in graph:\n",
    "  print(f\"{node} 는 {', '.join(graph[node])}와 연결\")"
   ]
  },
  {
   "cell_type": "markdown",
   "metadata": {},
   "source": [
    "# 트리(tree)\n",
    "\n",
    "- 트리 구조는 노드들이 나무 가지처럼 연결된 비선형적이고 계층적인 자료구조\n",
    "- 트리는 사실 그래프의 한 형태로 순환이 없는 연결 그래프의 일종임"
   ]
  },
  {
   "cell_type": "code",
   "execution_count": null,
   "metadata": {},
   "outputs": [],
   "source": [
    "# 트리 구조:\n",
    "#       1\n",
    "#      / \\\n",
    "#     2   3\n",
    "#    / \\\n",
    "#   4   5\n",
    "\n",
    "# Tree 생성을 위한 Node\n",
    "class Node:\n",
    "  def __init__(self, data):\n",
    "    self.data = data\n",
    "    self.left = None\n",
    "    self.right = None\n",
    "\n",
    "root = Node(1)\n",
    "root.left = Node(2)\n",
    "root.right = Node(3)\n",
    "root.left.left = Node(4)\n",
    "root.left.right = Node(5)\n",
    "\n",
    "print(root.data, root.left.data, root.left.left.data)"
   ]
  },
  {
   "cell_type": "markdown",
   "metadata": {},
   "source": [
    "## 8 Puzzle 만들기\n",
    "\n",
    "- 트리 구조를 활용해 경로 탐색 용이하도록 문제 상황의 상태 공간을 class 로 구현\n",
    "\n",
    "1. <strong>상태</strong> 정보를 담기 위한 속성\n",
    "    - board\n",
    "2. 다음 상태로의 전이를 가능케하는 <strong>전이모형</strong>에 해당하는 함수\n",
    "    - get_new_board: 동작\n",
    "    - expand: (동작 통해) 확장 가능 상태 생성\n",
    "3. 그 외 함수\n",
    "    - 객체(현재 상태)를 출력해 현재 상태를 확인하는 함수\n",
    "    - 두 객체(현재 상태 vs. 목표 상태) 비교 하기 위한 함수"
   ]
  },
  {
   "cell_type": "code",
   "execution_count": 15,
   "metadata": {},
   "outputs": [],
   "source": [
    "#클래스 설계 (상태, 전이모형, 그외 함수 포함)\n",
    "\n",
    "class Puzzle:\n",
    "    def __init__(self, board):\n",
    "        self.board = board\n",
    "\n",
    "    def get_new_board(self, i1, i2):\n",
    "        new_board = self.board[:]\n",
    "        new_board[i1], new_board[i2] = new_board[i2], new_board[i1]\n",
    "        return Puzzle(new_board)\n",
    "\n",
    "    def expand(self):\n",
    "        result = []\n",
    "        i = self.board.index(0)\n",
    "        if i not in [0,3,6]: # left\n",
    "            result.append(self.get_new_board(i, i-1))\n",
    "        if i not in [0,1,2]: # up\n",
    "            result.append(self.get_new_board(i, i-3))\n",
    "        if i not in [6,7,8]: # down\n",
    "            result.append(self.get_new_board(i, i+3))\n",
    "        if i not in [2,5,8]: # right\n",
    "            result.append(self.get_new_board(i, i+1))\n",
    "        return result\n",
    "    \n",
    "    def __str__(self):\n",
    "        return str(self.board[:3]) + \"\\n\" + str(self.board[3:6]) + \"\\n\" + str(self.board[6:9])\n",
    "    \n",
    "    def __eq__(self, other):\n",
    "        return self.board == other.board\n",
    "    \n",
    "    def __ne__(self, other):\n",
    "        return self.board != other.board"
   ]
  },
  {
   "cell_type": "code",
   "execution_count": 16,
   "metadata": {},
   "outputs": [],
   "source": [
    "initial_state = [0, 1, 3,\n",
    "                 4, 2, 5,\n",
    "                 6, 8, 7]"
   ]
  },
  {
   "cell_type": "code",
   "execution_count": 19,
   "metadata": {},
   "outputs": [],
   "source": [
    "initial_puzzle = Puzzle(initial_state)"
   ]
  },
  {
   "cell_type": "code",
   "execution_count": 25,
   "metadata": {},
   "outputs": [
    {
     "name": "stdout",
     "output_type": "stream",
     "text": [
      "#0\n",
      "[4, 1, 3]\n",
      "[0, 2, 5]\n",
      "[6, 8, 7]\n",
      "#1\n",
      "[1, 0, 3]\n",
      "[4, 2, 5]\n",
      "[6, 8, 7]\n"
     ]
    }
   ],
   "source": [
    "next_puzzle_list = initial_puzzle.expand()\n",
    "\n",
    "for i, v in enumerate(next_puzzle_list):\n",
    "  print(f\"#{i}\\n{v}\")"
   ]
  }
 ],
 "metadata": {
  "kernelspec": {
   "display_name": "Python 3",
   "language": "python",
   "name": "python3"
  },
  "language_info": {
   "codemirror_mode": {
    "name": "ipython",
    "version": 3
   },
   "file_extension": ".py",
   "mimetype": "text/x-python",
   "name": "python",
   "nbconvert_exporter": "python",
   "pygments_lexer": "ipython3",
   "version": "3.9.6"
  }
 },
 "nbformat": 4,
 "nbformat_minor": 2
}
