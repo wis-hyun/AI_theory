{
 "cells": [
  {
   "cell_type": "markdown",
   "metadata": {},
   "source": [
    "# 파이썬 복습\n",
    "  \n",
    "* Goal: 향후 탐색 알고리즘과 인공지능 알고리즘 구현에 앞서 파이썬을 빠르게 되짚어 본다."
   ]
  },
  {
   "cell_type": "markdown",
   "metadata": {},
   "source": [
    "---\n",
    "### 변수와 기본 자료형\n",
    "- 기본 자료형은 데이터를 저장하고 처리하는 가장 기본적인 유형을 의미함\n",
    "1. Number\n",
    "\t- int: 정수\n",
    "\t- float: 부동소수점\n",
    "2. String: 문자열\n",
    "3. Container\n",
    "\t- List \n",
    "\t\t- 제일 많이 쓰이는 행렬 형태의 자료형\n",
    "\t\t- 예: a[1,2,3]\n",
    "\t\t- 위의 a에서 1을 추출하고싶은 경우 a[0], a에서 2를 추출하려면 a[1], 3은 a[2]\n",
    "\t- Tuple\n",
    "\t\t- 리스트와 비슷하지만 수정이 어려운 자료형\n",
    "\t\t- 예: a(1,2,3)\n",
    "\t- Dictionary\n",
    "\t\t- Key와 Value로 구성\n",
    "\t\t- 예: {‘apple’:200, ‘google’: 190, ‘lg’: 50}\n",
    "\t- Set\n",
    "\t\t- 순서가 없고, 중복되지 않는 값의 집합(중복 값 하나로 취급)인 자료형\n",
    "\t\t- 예: {1, 2, 3}, {'apple', 'banana'}\n",
    "4. Boolean: True/False 두개의 값만 존재"
   ]
  },
  {
   "cell_type": "code",
   "execution_count": 10,
   "metadata": {},
   "outputs": [
    {
     "name": "stdout",
     "output_type": "stream",
     "text": [
      "3 3.14 a 1 sookmyung {1, 2, 3} True\n"
     ]
    }
   ],
   "source": [
    "# 변수의 선언\n",
    "# 변수명 = 값\n",
    "\n",
    "varInt = 3\n",
    "varFloat = 3.14\n",
    "varStr = 'a'\n",
    "varList = [1,2,3]\n",
    "varDict = {'school': 'sookmyung', 'number': 30, 'student': ['noon', 'song']}\n",
    "varSet = {1, 2, 2, 3}\n",
    "varBool = True\n",
    "\n",
    "print(varInt, varFloat, varStr, varList[0], varDict['school'], varSet, varBool)"
   ]
  },
  {
   "cell_type": "markdown",
   "metadata": {},
   "source": [
    "---\n",
    "### 함수\n",
    "함수는 프로그램 각 부분의 역할을 나누어 함수1, 함수2 등을 조립해 사용하는 등 재사용의 효율을 도모하기 위해 만들어진 개념  \n",
    "![nn](../image/func.png)\n",
    "\n",
    "1. input x 는 파라미터(parameter)라고 부르고, \n",
    "2. function f 는 함수(function)이라 부르며,\n",
    "3. output y(=f(x))는 반환값(return value) 이라 부름"
   ]
  },
  {
   "cell_type": "code",
   "execution_count": 14,
   "metadata": {},
   "outputs": [
    {
     "data": {
      "text/plain": [
       "3"
      ]
     },
     "execution_count": 14,
     "metadata": {},
     "output_type": "execute_result"
    }
   ],
   "source": [
    "# 함수의 선언\n",
    "# def 함수명(파라미터1, 파라미터2, ...):\n",
    "#   ...\n",
    "#   return 반환값\n",
    "\n",
    "# 함수의 사용\n",
    "# 함수명(파라미터1, 파라미터2, ...\n",
    "\n",
    "def sum_func(number1, number2):\n",
    "  y = number1 + number2\n",
    "  return y\n",
    "\n",
    "\n",
    "sum_func(1,2)"
   ]
  },
  {
   "cell_type": "markdown",
   "metadata": {},
   "source": [
    "---\n",
    "### 얕은 복사와 깊은 복사\n"
   ]
  },
  {
   "cell_type": "markdown",
   "metadata": {},
   "source": [
    "- int, float, str, 나 bool 등 자료형은 immutable 자료형"
   ]
  },
  {
   "cell_type": "code",
   "execution_count": 23,
   "metadata": {},
   "outputs": [
    {
     "name": "stdout",
     "output_type": "stream",
     "text": [
      "3 3\n",
      "2 3\n"
     ]
    }
   ],
   "source": [
    "a = 3\n",
    "b = a\n",
    "\n",
    "print(a,b)\n",
    "a = 2\n",
    "\n",
    "print(a,b)"
   ]
  },
  {
   "cell_type": "markdown",
   "metadata": {},
   "source": [
    "- list나 dictionary 는 대표적인 mutable 자료형\n",
    "- 값 자체가 아닌 주소값을 복사하기 때문에, 복사된 값이 변형되면 원래 값도 같이 변형됨"
   ]
  },
  {
   "cell_type": "code",
   "execution_count": 20,
   "metadata": {},
   "outputs": [
    {
     "name": "stdout",
     "output_type": "stream",
     "text": [
      "[1, 5, 5, 7] [1, 5, 5, 7]\n"
     ]
    }
   ],
   "source": [
    "list_a = [1,3,5,7]\n",
    "list_b = list_a\n",
    "list_a[1] = 5\n",
    "\n",
    "print(list_a, list_b)"
   ]
  },
  {
   "cell_type": "markdown",
   "metadata": {},
   "source": [
    "- mutable한 자료형의 원본은 보존하면서 실제 값만 복사하고 싶은 경우에는, copy 모듈의 deepcopy 메소드 사용해 깊은 복사"
   ]
  },
  {
   "cell_type": "code",
   "execution_count": 24,
   "metadata": {},
   "outputs": [
    {
     "name": "stdout",
     "output_type": "stream",
     "text": [
      "[1, 8, 5, 7] [1, 3, 5, 7]\n"
     ]
    }
   ],
   "source": [
    "import copy\n",
    "list_a = [1,3,5,7]\n",
    "list_b = copy.deepcopy(list_a)\n",
    "list_a[1] = 8\n",
    "\n",
    "print(list_a, list_b)"
   ]
  },
  {
   "cell_type": "markdown",
   "metadata": {},
   "source": [
    "---\n",
    "### 조건문\n",
    "- if\n",
    "- 비교 연산자\n",
    "  - a > b, a < b\n",
    "  - a => b, a =< b\n",
    "  - a == b, a != b\n",
    "  - a is b \n",
    "  - a is not b \n",
    "    \n",
    "    (is는 a와 b가 서로 같은 주소값을 참조하는 동일한 객체인지 비교. 반면 == 는 단순히 값만 비교함.)\n",
    "- 논리 연산자\n",
    "  - and\n",
    "  - or\n",
    "  - not"
   ]
  },
  {
   "cell_type": "code",
   "execution_count": 26,
   "metadata": {},
   "outputs": [
    {
     "name": "stdout",
     "output_type": "stream",
     "text": [
      "a는 5보다 작다\n"
     ]
    }
   ],
   "source": [
    "#조건문 만들기\n",
    "# if 조건문 :\n",
    "#\t...\n",
    "#\t...\n",
    "\n",
    "a = 3\n",
    "if a < 5:\n",
    "  print('a는 5보다 작다')"
   ]
  },
  {
   "cell_type": "markdown",
   "metadata": {},
   "source": [
    "- else"
   ]
  },
  {
   "cell_type": "code",
   "execution_count": 29,
   "metadata": {},
   "outputs": [
    {
     "name": "stdout",
     "output_type": "stream",
     "text": [
      "a 는 5 보다 작지않거나 같다\n"
     ]
    }
   ],
   "source": [
    "#조건문 만들기\n",
    "# if 조건문 :\n",
    "#\t   ...\n",
    "# else :\n",
    "#    ...\n",
    "\n",
    "a = 3\n",
    "if a > 5:\n",
    "  print('a 는 5 보다 크다')\n",
    "else:\n",
    "  print('a 는 5 보다 작지않거나 같다')\n"
   ]
  },
  {
   "cell_type": "markdown",
   "metadata": {},
   "source": [
    "- elif\n"
   ]
  },
  {
   "cell_type": "code",
   "execution_count": 33,
   "metadata": {},
   "outputs": [
    {
     "name": "stdout",
     "output_type": "stream",
     "text": [
      "a 는 3 이다\n"
     ]
    }
   ],
   "source": [
    "#조건문 만들기\n",
    "# if 조건문 :\n",
    "#\t  ...\n",
    "# elif 조건문 :\n",
    "#   ...\n",
    "# else :\n",
    "#   ...\n",
    "\n",
    "#예\n",
    "a = 3\n",
    "if a > 5:\n",
    "  print('a 는 5 보다 크다')\n",
    "elif a == 3:\n",
    "  print('a 는 3 이다')\n",
    "else:\n",
    "  print('a 는 5 보다 작지않거나 같다')"
   ]
  },
  {
   "cell_type": "markdown",
   "metadata": {},
   "source": [
    "[TIP] if문을 사용할 경우, 아래와 같이 if문의 깊이를 깊게 만들지 말고, 논리연산자 (and , or 등)을 사용하여 깊이를 줄이는게 효율적임"
   ]
  },
  {
   "cell_type": "markdown",
   "metadata": {},
   "source": [
    "---\n",
    "### 반복문\n",
    "- for문"
   ]
  },
  {
   "cell_type": "code",
   "execution_count": 35,
   "metadata": {},
   "outputs": [
    {
     "name": "stdout",
     "output_type": "stream",
     "text": [
      "3\n",
      "9\n",
      "7\n",
      "4\n"
     ]
    }
   ],
   "source": [
    "# for 사용해 반복문 만들기\n",
    "# for 무엇 in 무엇:\n",
    "#   명령문\n",
    "list_a = [3,9,7,4]\n",
    "for i in list_a:\n",
    "  print(i)\n"
   ]
  },
  {
   "cell_type": "markdown",
   "metadata": {},
   "source": [
    "- 반복문에서 많이 사용되는 함수\n",
    "  - len(): 배열의 길이를 알려주는 함수\n",
    "  - range(a,b): a이상 b미만의 값을 포함한 리스트를 만드는 함수\n",
    "    \n",
    "    (만약에 1,3,5,7 .. 이렇게 2씩 크게 만들고 싶다면, range(a,b,2) 로 선언하면됨)\n"
   ]
  },
  {
   "cell_type": "code",
   "execution_count": 45,
   "metadata": {},
   "outputs": [
    {
     "name": "stdout",
     "output_type": "stream",
     "text": [
      "<class 'range'>\n",
      "<class 'list'>\n",
      "10\n"
     ]
    }
   ],
   "source": [
    "a = range(0,10)\n",
    "print(type(a))\n",
    "a = list(a) # 위에서 range값을 담은 a는 리스트가 아니라 그 자체로 객체이기 때문에, 형 변환 필요\n",
    "print(type(a))\n",
    "a\n",
    "print(len(a))"
   ]
  },
  {
   "cell_type": "code",
   "execution_count": 51,
   "metadata": {},
   "outputs": [
    {
     "name": "stdout",
     "output_type": "stream",
     "text": [
      "3\n",
      "5\n",
      "7\n",
      "9\n",
      "11\n",
      "13\n",
      "15\n",
      "17\n"
     ]
    }
   ],
   "source": [
    "# 응용\n",
    "a = range(3,18,2)\n",
    "a = list(a)\n",
    "\n",
    "for i in range(len(a)):\n",
    "  print(a[i])"
   ]
  },
  {
   "cell_type": "markdown",
   "metadata": {},
   "source": [
    "- while문: 조건문이 참(True)이면 안의 명령문을 계속 반복하라는 뜻을 가진 반복 함수\n",
    "  - break: 제어흐름 중단 (for에서도 동일하게 사용 가능)\n",
    "  - continue: 제어흐름 유지, 코드 실행만 건너뜀\n"
   ]
  },
  {
   "cell_type": "code",
   "execution_count": 53,
   "metadata": {},
   "outputs": [
    {
     "name": "stdout",
     "output_type": "stream",
     "text": [
      "8\n",
      "9\n",
      "10\n"
     ]
    }
   ],
   "source": [
    "# while 사용해 반복문 만들기\n",
    "# while(조건문):\n",
    "#   명령문\n",
    "\n",
    "a = 7\n",
    "while(a<10):\n",
    "  a = a+1\n",
    "  print(a)"
   ]
  },
  {
   "cell_type": "code",
   "execution_count": 56,
   "metadata": {},
   "outputs": [
    {
     "name": "stdout",
     "output_type": "stream",
     "text": [
      "0\n",
      "1\n",
      "2\n",
      "3\n",
      "4\n",
      "5\n",
      "6\n",
      "7\n",
      "8\n",
      "9\n"
     ]
    }
   ],
   "source": [
    "a = 0\n",
    "while True:    # 무한 루프\n",
    "    print(a)\n",
    "    a += 1          # i를 1씩 증가시킴\n",
    "    if a == 10:    # i가 100일 때\n",
    "        break"
   ]
  },
  {
   "cell_type": "markdown",
   "metadata": {},
   "source": [
    "---\n",
    "### 자료형 조작하기"
   ]
  },
  {
   "cell_type": "markdown",
   "metadata": {},
   "source": [
    "##### 1-1. 리스트 조작\n",
    "- 리스트.append(i): 리스트에 i 라는 값 추가\n",
    "- 리스트.pop(): 리스트 마지막 아이템 지우고 리턴\n",
    "- 리스트.reverse(): 리스트 아이템 거꾸로 배치\n",
    "- 리스트.clear(): 리스트 아이템 전부 지움\n",
    "- 리스트.remove(i): 리스트에 들어있는 i라는 값 제거(여러개 있을 시 가장 앞에 하나만 지움)\n",
    "- 리스트.sort(): 오름차순 정렬 (숫자뿐아니라 문자도 알파벳순으로), 내림차순은 리스트.sort(reverse=True)"
   ]
  },
  {
   "cell_type": "code",
   "execution_count": 8,
   "metadata": {},
   "outputs": [
    {
     "name": "stdout",
     "output_type": "stream",
     "text": [
      "[5, 3, 8, 1, 5]\n",
      "[5, 3, 8, 1]\n",
      "5\n",
      "[1, 8, 3, 5]\n",
      "[1, 8, 5]\n"
     ]
    }
   ],
   "source": [
    "my_list = []\n",
    "\n",
    "my_list.append(5)\n",
    "my_list.append(3)\n",
    "my_list.append(8)\n",
    "my_list.append(1)\n",
    "my_list.append(5)\n",
    "print(my_list)  # [5, 3, 8, 1, 5]\n",
    "\n",
    "last_item = my_list.pop()\n",
    "print(my_list)  # [5, 3, 8, 1]\n",
    "print(last_item)  # 5\n",
    "\n",
    "my_list.reverse()\n",
    "print(my_list)  # [1, 8, 3, 5]\n",
    "\n",
    "my_list.remove(3) \n",
    "print(my_list)  # [1, 8, 5]"
   ]
  },
  {
   "cell_type": "markdown",
   "metadata": {},
   "source": [
    "##### 1-2. 리스트 응용\n",
    "- map(함수, 리스트): 리스트의 아이템을 해당 함수로 처리해 다시 리스트 만들어줌\n",
    "- [식 for 변수 in 리스트]: 리스트 표현식(for문을 돌려서 나온 값들을 식에 넣어 리스트 생성), 뒤에 if 문이나 중복 for문도 추가 가능\n",
    "- for idx, val in enumerate(리스트): 인덱스와 값을 함께 출력하기 위한 enumerate"
   ]
  },
  {
   "cell_type": "code",
   "execution_count": 7,
   "metadata": {},
   "outputs": [
    {
     "name": "stdout",
     "output_type": "stream",
     "text": [
      "[1, 4, 9, 16, 25]\n",
      "[4, 8]\n",
      "Index: 0, Value: 1\n",
      "Index: 1, Value: 2\n",
      "Index: 2, Value: 3\n",
      "Index: 3, Value: 4\n",
      "Index: 4, Value: 5\n"
     ]
    }
   ],
   "source": [
    "numbers = [1, 2, 3, 4, 5]\n",
    "\n",
    "def square(x):\n",
    "    return x ** 2\n",
    "\n",
    "# map() 함수를 사용하여 리스트의 모든 값 제곱하기\n",
    "squared_numbers = list(map(square, numbers))\n",
    "print(squared_numbers) # [1, 4, 9, 16, 25]\n",
    "\n",
    "# 리스트 표현식으로 짝수만 2배 만들기\n",
    "doubled_even_numbers = [x * 2 for x in numbers if x % 2 == 0]\n",
    "print(doubled_even_numbers)  # 출력: [4, 8]\n",
    "\n",
    "# enumerate를 사용하여 인덱스와 값을 함께 출력\n",
    "for idx, val in enumerate(numbers):\n",
    "    print(f\"Index: {idx}, Value: {val}\")"
   ]
  },
  {
   "cell_type": "markdown",
   "metadata": {},
   "source": [
    "---\n",
    "### 클래스와 객체\n",
    "- 특정 객체를 생성하기 위해 '속성'와 '메소드'를 정의하는 기능\n",
    "- (함수와의 차이점: 독립적인 함수가 늘어날수록 각각의 의미를 파악하기 어려워지기 때문에, 비슷한 역할을 하는 것을 한 곳에 모으는 클래스를 활용)\n",
    "- 상속(새로운 클래스 만들 시 다른 클래스 기능을 물려받을 수 있음) 가능\n",
    "\n",
    " * 용어 정리: 클래스는 설계도(속성 및 메소드 들어있음), 객체는 실제 물건(설계도로 이미 만들어진 결과물 통칭), 인스턴스는 특정 클래스로 생성된 객체(객체(들) 중 특정 클래스로 만들어진 객체)"
   ]
  },
  {
   "cell_type": "code",
   "execution_count": 64,
   "metadata": {},
   "outputs": [
    {
     "name": "stdout",
     "output_type": "stream",
     "text": [
      "hi, I'm Sangyeon Kim. I'm 35 years old. Nice to meet you\n"
     ]
    }
   ],
   "source": [
    "# class 클래스명:\n",
    "#   def __init__(self, 파라미터1, 파라미터2): #생성자\n",
    "#     self.속성1 = 파라미터1\n",
    "#     self.속성2 = 파라미터2\n",
    "#   def 메소드(self):\n",
    "#     ...\n",
    "\n",
    "class Person:\n",
    "  def __init__(self, name, age):\n",
    "    self.name = name\n",
    "    self.age = age\n",
    "  \n",
    "  def greeting(self):\n",
    "    print(\"hi, I'm {0}. I'm {1} years old. Nice to meet you\".format(self.name, self.age))\n",
    "\n",
    "sangyeon = Person('Sangyeon Kim', 35) # sangyeon 이라는 인스턴스 생성\n",
    "sangyeon.greeting() # 메소드 실행"
   ]
  },
  {
   "cell_type": "code",
   "execution_count": 79,
   "metadata": {},
   "outputs": [
    {
     "data": {
      "text/plain": [
       "1906"
      ]
     },
     "execution_count": 79,
     "metadata": {},
     "output_type": "execute_result"
    }
   ],
   "source": [
    "class PersonArgs:\n",
    "  def __init__(self, *args): #위치 인수\n",
    "    self.name = args[0]\n",
    "    self.born = args[1]\n",
    "\n",
    "sookmyung1 = PersonArgs(*['숙명', 1906])\n",
    "\n",
    "class PersonKwargs:\n",
    "  def __init__(self, **kwargs): #키워드 인수\n",
    "    self.name = kwargs['name']\n",
    "    self.born = kwargs['born']\n",
    "\n",
    "sookmyung2 = PersonKwargs(name='숙명', born=1906)\n",
    "sookmyung3 = PersonKwargs(**{'name': '숙명', 'born': 1906})\n",
    "\n",
    "sookmyung3.born"
   ]
  },
  {
   "cell_type": "markdown",
   "metadata": {},
   "source": [
    "### 예외처리\n",
    "- try & except를 사용하며, execept 뒤에는 표준 예외 클래스(파이썬 모듈에 이미 내장된 예외)를 기입\n",
    "    - 예: indexError, KeyError, ValueError, TypeError, NameError, FileNotFoundError 등등"
   ]
  },
  {
   "cell_type": "code",
   "execution_count": 2,
   "metadata": {},
   "outputs": [
    {
     "name": "stdout",
     "output_type": "stream",
     "text": [
      "예외가 발생했습니다.\n"
     ]
    }
   ],
   "source": [
    "# try:\n",
    "#     실행할 코드\n",
    "# except 예외이름:\n",
    "#     예외가 발생했을 때 처리하는 코드\n",
    "\n",
    "try:\n",
    "    x = int(0) # 0으로 나누면 ZeroDivision 오류가 발생\n",
    "    y = 10 / x\n",
    "    print(y)\n",
    "except:    # 예외가 발생했을 때 실행됨\n",
    "    print('예외가 발생했습니다.')"
   ]
  },
  {
   "cell_type": "code",
   "execution_count": 6,
   "metadata": {},
   "outputs": [
    {
     "name": "stdout",
     "output_type": "stream",
     "text": [
      "숫자를 0으로 나눌 수 없습니다.\n"
     ]
    }
   ],
   "source": [
    "y = [10, 20, 30]\n",
    " \n",
    "try:\n",
    "    index, x = map(int, input('인덱스와 나눌 숫자를 입력하세요: ').split())\n",
    "    print(y[index] / x)\n",
    "except ZeroDivisionError:    # 숫자를 0으로 나눠서 에러가 발생했을 때 실행됨\n",
    "    print('숫자를 0으로 나눌 수 없습니다.')\n",
    "except IndexError:           # 범위를 벗어난 인덱스에 접근하여 에러가 발생했을 때 실행됨\n",
    "    print('잘못된 인덱스입니다.')\n",
    "\n",
    "# 입력 2 0 > 숫자를 0으로 나눌 수 없습니다.\n",
    "# 입력 3 5 > 잘못된 인덱스입니다."
   ]
  },
  {
   "cell_type": "markdown",
   "metadata": {},
   "source": [
    "### 람다 표현식(lambda expression)\n",
    "- 함수를 간단하게 작성\n",
    "- lambda 매개변수: 식\n",
    "- 람다 함수 안에는 새로운 변수를 넣을 수 없으니 미리 선언해두고 사용(변수가 필요하면 일반 def 로 작성 권장)"
   ]
  },
  {
   "cell_type": "code",
   "execution_count": 7,
   "metadata": {},
   "outputs": [
    {
     "data": {
      "text/plain": [
       "16"
      ]
     },
     "execution_count": 7,
     "metadata": {},
     "output_type": "execute_result"
    }
   ],
   "source": [
    "# lambda 매개변수: 식\n",
    "\n",
    "power = lambda x: x ** 2\n",
    "power(4)"
   ]
  },
  {
   "cell_type": "code",
   "execution_count": 12,
   "metadata": {},
   "outputs": [
    {
     "data": {
      "text/plain": [
       "11"
      ]
     },
     "execution_count": 12,
     "metadata": {},
     "output_type": "execute_result"
    }
   ],
   "source": [
    "y = 10\n",
    "(lambda x: x + y)(1)"
   ]
  },
  {
   "cell_type": "code",
   "execution_count": 10,
   "metadata": {},
   "outputs": [
    {
     "data": {
      "text/plain": [
       "[11, 12, 13]"
      ]
     },
     "execution_count": 10,
     "metadata": {},
     "output_type": "execute_result"
    }
   ],
   "source": [
    "list(map(lambda x: x + 10, [1,2,3]))"
   ]
  },
  {
   "cell_type": "code",
   "execution_count": 13,
   "metadata": {},
   "outputs": [
    {
     "data": {
      "text/plain": [
       "['1', 2.0, 13, 14, 15, 16, 17, 18, 19, 20]"
      ]
     },
     "execution_count": 13,
     "metadata": {},
     "output_type": "execute_result"
    }
   ],
   "source": [
    "a = [1, 2, 3, 4, 5, 6, 7, 8, 9, 10]\n",
    "list(map(lambda x: str(x) if x == 1 else float(x) if x == 2 else x + 10, a))"
   ]
  },
  {
   "cell_type": "markdown",
   "metadata": {},
   "source": []
  }
 ],
 "metadata": {
  "kernelspec": {
   "display_name": "base",
   "language": "python",
   "name": "python3"
  },
  "language_info": {
   "codemirror_mode": {
    "name": "ipython",
    "version": 3
   },
   "file_extension": ".py",
   "mimetype": "text/x-python",
   "name": "python",
   "nbconvert_exporter": "python",
   "pygments_lexer": "ipython3",
   "version": "3.12.3"
  }
 },
 "nbformat": 4,
 "nbformat_minor": 2
}
